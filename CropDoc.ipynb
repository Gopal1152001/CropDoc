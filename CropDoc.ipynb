{
 "cells": [
  {
   "cell_type": "code",
   "execution_count": null,
   "metadata": {
    "colab": {
     "base_uri": "https://localhost:8080/"
    },
    "id": "-62Y3-sH62R2",
    "outputId": "86a4ec4d-6c08-4816-8b33-1dc3b03a0271"
   },
   "outputs": [
    {
     "name": "stdout",
     "output_type": "stream",
     "text": [
      "Downloading new-plant-diseases-dataset.zip to /content\n",
      "100% 2.70G/2.70G [02:10<00:00, 22.9MB/s]\n",
      "100% 2.70G/2.70G [02:10<00:00, 22.2MB/s]\n"
     ]
    }
   ],
   "source": [
    "import os\n",
    "os.environ['KAGGLE_USERNAME'] = \"gopalkedia\" # username from the json file\n",
    "os.environ['KAGGLE_KEY'] = \"d4a77bcd5d6c292bdd13e9b15b6f0c3a\" # key from the json file\n",
    "\n",
    "!kaggle datasets download -d vipoooool/new-plant-diseases-dataset\n",
    "!unzip -qq /content/new-plant-diseases-dataset.zip"
   ]
  },
  {
   "cell_type": "code",
   "execution_count": null,
   "metadata": {
    "id": "AUGJ1dqW51Ku"
   },
   "outputs": [],
   "source": [
    "train_path='/content/new plant diseases dataset(augmented)/New Plant Diseases Dataset(Augmented)'+'/train/'"
   ]
  },
  {
   "cell_type": "code",
   "execution_count": null,
   "metadata": {
    "id": "vXSgl-NV7K8f"
   },
   "outputs": [],
   "source": [
    "import pandas as pd\n",
    "import numpy as np\n",
    "import seaborn as sns\n",
    "import matplotlib.pyplot as plt\n",
    "%matplotlib inline"
   ]
  },
  {
   "cell_type": "code",
   "execution_count": null,
   "metadata": {
    "id": "0aPjrQMR7mfI"
   },
   "outputs": [],
   "source": [
    "import os"
   ]
  },
  {
   "cell_type": "code",
   "execution_count": null,
   "metadata": {
    "colab": {
     "base_uri": "https://localhost:8080/"
    },
    "id": "0qlVul5AVJyV",
    "outputId": "8e0a1df4-bfe7-459e-9469-90a2ee5b672f"
   },
   "outputs": [
    {
     "data": {
      "text/plain": [
       "['Grape___Esca_(Black_Measles)',\n",
       " 'Orange___Haunglongbing_(Citrus_greening)',\n",
       " 'Tomato___Bacterial_spot',\n",
       " 'Apple___Apple_scab',\n",
       " 'Tomato___Late_blight',\n",
       " 'Tomato___Target_Spot',\n",
       " 'Cherry_(including_sour)___Powdery_mildew',\n",
       " 'Potato___Late_blight',\n",
       " 'Tomato___Tomato_mosaic_virus',\n",
       " 'Squash___Powdery_mildew',\n",
       " 'Soybean___healthy',\n",
       " 'Grape___healthy',\n",
       " 'Pepper,_bell___healthy',\n",
       " 'Peach___Bacterial_spot',\n",
       " 'Tomato___Septoria_leaf_spot',\n",
       " 'Tomato___Early_blight',\n",
       " 'Blueberry___healthy',\n",
       " 'Raspberry___healthy',\n",
       " 'Tomato___Leaf_Mold',\n",
       " 'Corn_(maize)___Cercospora_leaf_spot Gray_leaf_spot',\n",
       " 'Corn_(maize)___healthy',\n",
       " 'Potato___healthy',\n",
       " 'Corn_(maize)___Northern_Leaf_Blight',\n",
       " 'Tomato___Spider_mites Two-spotted_spider_mite',\n",
       " 'Apple___Black_rot',\n",
       " 'Strawberry___healthy',\n",
       " 'Tomato___healthy',\n",
       " 'Tomato___Tomato_Yellow_Leaf_Curl_Virus',\n",
       " 'Potato___Early_blight',\n",
       " 'Apple___Cedar_apple_rust',\n",
       " 'Corn_(maize)___Common_rust_',\n",
       " 'Peach___healthy',\n",
       " 'Pepper,_bell___Bacterial_spot',\n",
       " 'Apple___healthy',\n",
       " 'Grape___Black_rot',\n",
       " 'Strawberry___Leaf_scorch',\n",
       " 'Cherry_(including_sour)___healthy',\n",
       " 'Grape___Leaf_blight_(Isariopsis_Leaf_Spot)']"
      ]
     },
     "execution_count": 5,
     "metadata": {},
     "output_type": "execute_result"
    }
   ],
   "source": [
    "os.listdir(train_path)"
   ]
  },
  {
   "cell_type": "code",
   "execution_count": null,
   "metadata": {
    "id": "k5GU5_-5VNBX"
   },
   "outputs": [],
   "source": [
    "test_path='/content/New Plant Diseases Dataset(Augmented)/New Plant Diseases Dataset(Augmented)/valid'"
   ]
  },
  {
   "cell_type": "code",
   "execution_count": null,
   "metadata": {
    "id": "_MZ4hynAVhsn"
   },
   "outputs": [],
   "source": []
  },
  {
   "cell_type": "code",
   "execution_count": null,
   "metadata": {
    "colab": {
     "base_uri": "https://localhost:8080/",
     "height": 35
    },
    "id": "zSvy-BJfVlho",
    "outputId": "3e73f34e-5256-4592-afa9-83b6177783c4"
   },
   "outputs": [
    {
     "data": {
      "application/vnd.google.colaboratory.intrinsic+json": {
       "type": "string"
      },
      "text/plain": [
       "'e4b39784-a3a9-4c27-b265-03a3f30e04ef___FAM_B.Msls 1818.JPG'"
      ]
     },
     "execution_count": 7,
     "metadata": {},
     "output_type": "execute_result"
    }
   ],
   "source": [
    "os.listdir(train_path+'Grape___Esca_(Black_Measles)')[0]"
   ]
  },
  {
   "cell_type": "code",
   "execution_count": null,
   "metadata": {
    "id": "s5DTpamCV2Vh"
   },
   "outputs": [],
   "source": [
    "para_cell=train_path+'Grape___Esca_(Black_Measles)/'+os.listdir(train_path+'Grape___Esca_(Black_Measles)')[0]"
   ]
  },
  {
   "cell_type": "code",
   "execution_count": null,
   "metadata": {
    "colab": {
     "base_uri": "https://localhost:8080/",
     "height": 52
    },
    "id": "mozsf0UgbnmE",
    "outputId": "e791aba3-ca87-46ab-a7a7-b470b297568d"
   },
   "outputs": [
    {
     "data": {
      "application/vnd.google.colaboratory.intrinsic+json": {
       "type": "string"
      },
      "text/plain": [
       "'/content/new plant diseases dataset(augmented)/New Plant Diseases Dataset(Augmented)/train/Grape___Esca_(Black_Measles)/e4b39784-a3a9-4c27-b265-03a3f30e04ef___FAM_B.Msls 1818.JPG'"
      ]
     },
     "execution_count": 9,
     "metadata": {},
     "output_type": "execute_result"
    }
   ],
   "source": [
    "para_cell"
   ]
  },
  {
   "cell_type": "code",
   "execution_count": null,
   "metadata": {
    "colab": {
     "base_uri": "https://localhost:8080/"
    },
    "id": "0Xdj-FEJbpvd",
    "outputId": "fabc7381-1065-4463-cb09-efc6ed010040"
   },
   "outputs": [
    {
     "data": {
      "text/plain": [
       "array([[[246, 242, 241],\n",
       "        [245, 241, 240],\n",
       "        [246, 242, 241],\n",
       "        ...,\n",
       "        [220, 210, 209],\n",
       "        [218, 208, 207],\n",
       "        [207, 197, 196]],\n",
       "\n",
       "       [[243, 239, 238],\n",
       "        [242, 238, 237],\n",
       "        [242, 238, 237],\n",
       "        ...,\n",
       "        [228, 218, 217],\n",
       "        [225, 215, 214],\n",
       "        [214, 204, 203]],\n",
       "\n",
       "       [[242, 238, 237],\n",
       "        [241, 237, 236],\n",
       "        [240, 236, 235],\n",
       "        ...,\n",
       "        [215, 205, 204],\n",
       "        [215, 205, 204],\n",
       "        [208, 198, 197]],\n",
       "\n",
       "       ...,\n",
       "\n",
       "       [[166, 150, 150],\n",
       "        [171, 155, 155],\n",
       "        [159, 143, 143],\n",
       "        ...,\n",
       "        [170, 164, 166],\n",
       "        [173, 167, 171],\n",
       "        [195, 190, 194]],\n",
       "\n",
       "       [[196, 180, 180],\n",
       "        [158, 142, 142],\n",
       "        [157, 141, 141],\n",
       "        ...,\n",
       "        [152, 146, 148],\n",
       "        [175, 169, 173],\n",
       "        [165, 160, 166]],\n",
       "\n",
       "       [[187, 171, 171],\n",
       "        [161, 145, 145],\n",
       "        [169, 153, 153],\n",
       "        ...,\n",
       "        [171, 165, 169],\n",
       "        [192, 187, 191],\n",
       "        [205, 200, 206]]], dtype=uint8)"
      ]
     },
     "execution_count": 11,
     "metadata": {},
     "output_type": "execute_result"
    }
   ],
   "source": [
    "from matplotlib.image import imread\n",
    "imread(para_cell)"
   ]
  },
  {
   "cell_type": "code",
   "execution_count": null,
   "metadata": {
    "colab": {
     "base_uri": "https://localhost:8080/"
    },
    "id": "q14r1Z8CbsZ2",
    "outputId": "f99f2a0d-c1c5-421e-945d-7589dd23f1db"
   },
   "outputs": [
    {
     "data": {
      "text/plain": [
       "(256, 256, 3)"
      ]
     },
     "execution_count": 13,
     "metadata": {},
     "output_type": "execute_result"
    }
   ],
   "source": [
    "imread(para_cell).shape"
   ]
  },
  {
   "cell_type": "code",
   "execution_count": null,
   "metadata": {
    "colab": {
     "base_uri": "https://localhost:8080/",
     "height": 286
    },
    "id": "kSvb1Sfzbyus",
    "outputId": "72c2e90e-9661-429f-93b8-39da44ee5d3c"
   },
   "outputs": [
    {
     "data": {
      "text/plain": [
       "<matplotlib.image.AxesImage at 0x7f9e8357a250>"
      ]
     },
     "execution_count": 14,
     "metadata": {},
     "output_type": "execute_result"
    },
    {
     "data": {
      "image/png": "[encoded data removed]",
      "text/plain": [
       "<Figure size 432x288 with 1 Axes>"
      ]
     },
     "metadata": {
      "needs_background": "light"
     },
     "output_type": "display_data"
    }
   ],
   "source": [
    "plt.imshow(imread(para_cell))"
   ]
  },
  {
   "cell_type": "code",
   "execution_count": null,
   "metadata": {
    "colab": {
     "base_uri": "https://localhost:8080/"
    },
    "id": "dTAGFV7HcXWz",
    "outputId": "424ddb35-201a-473b-f863-830ae7779349"
   },
   "outputs": [
    {
     "data": {
      "text/plain": [
       "['Grape___Esca_(Black_Measles)',\n",
       " 'Orange___Haunglongbing_(Citrus_greening)',\n",
       " 'Tomato___Bacterial_spot',\n",
       " 'Apple___Apple_scab',\n",
       " 'Tomato___Late_blight',\n",
       " 'Tomato___Target_Spot',\n",
       " 'Cherry_(including_sour)___Powdery_mildew',\n",
       " 'Potato___Late_blight',\n",
       " 'Tomato___Tomato_mosaic_virus',\n",
       " 'Squash___Powdery_mildew',\n",
       " 'Soybean___healthy',\n",
       " 'Grape___healthy',\n",
       " 'Pepper,_bell___healthy',\n",
       " 'Peach___Bacterial_spot',\n",
       " 'Tomato___Septoria_leaf_spot',\n",
       " 'Tomato___Early_blight',\n",
       " 'Blueberry___healthy',\n",
       " 'Raspberry___healthy',\n",
       " 'Tomato___Leaf_Mold',\n",
       " 'Corn_(maize)___Cercospora_leaf_spot Gray_leaf_spot',\n",
       " 'Corn_(maize)___healthy',\n",
       " 'Potato___healthy',\n",
       " 'Corn_(maize)___Northern_Leaf_Blight',\n",
       " 'Tomato___Spider_mites Two-spotted_spider_mite',\n",
       " 'Apple___Black_rot',\n",
       " 'Strawberry___healthy',\n",
       " 'Tomato___healthy',\n",
       " 'Tomato___Tomato_Yellow_Leaf_Curl_Virus',\n",
       " 'Potato___Early_blight',\n",
       " 'Apple___Cedar_apple_rust',\n",
       " 'Corn_(maize)___Common_rust_',\n",
       " 'Peach___healthy',\n",
       " 'Pepper,_bell___Bacterial_spot',\n",
       " 'Apple___healthy',\n",
       " 'Grape___Black_rot',\n",
       " 'Strawberry___Leaf_scorch',\n",
       " 'Cherry_(including_sour)___healthy',\n",
       " 'Grape___Leaf_blight_(Isariopsis_Leaf_Spot)']"
      ]
     },
     "execution_count": 17,
     "metadata": {},
     "output_type": "execute_result"
    }
   ],
   "source": [
    "os.listdir(test_path)"
   ]
  },
  {
   "cell_type": "code",
   "execution_count": null,
   "metadata": {
    "id": "8jNkVHjlb3ed"
   },
   "outputs": [],
   "source": [
    "dim1=[]\n",
    "dim2=[]\n",
    "\n",
    "for image_filename in os.listdir(test_path+'/Grape___Esca_(Black_Measles)'):\n",
    "    \n",
    "    img=imread(test_path+'/Grape___Esca_(Black_Measles)/'+image_filename)\n",
    "    d1,d2,color=img.shape\n",
    "    dim1.append(d1)\n",
    "    dim2.append(d2)"
   ]
  },
  {
   "cell_type": "code",
   "execution_count": null,
   "metadata": {
    "colab": {
     "base_uri": "https://localhost:8080/",
     "height": 513
    },
    "id": "OJrpa1plcGl6",
    "outputId": "69279046-eb7d-4c69-c8d2-ef1fa472a4ff"
   },
   "outputs": [
    {
     "name": "stderr",
     "output_type": "stream",
     "text": [
      "/usr/local/lib/python3.7/dist-packages/seaborn/_decorators.py:43: FutureWarning: Pass the following variables as keyword args: x, y. From version 0.12, the only valid positional argument will be `data`, and passing other arguments without an explicit keyword will result in an error or misinterpretation.\n",
      "  FutureWarning\n"
     ]
    },
    {
     "data": {
      "text/plain": [
       "<seaborn.axisgrid.JointGrid at 0x7f9e835d5cd0>"
      ]
     },
     "execution_count": 21,
     "metadata": {},
     "output_type": "execute_result"
    },
    {
     "data": {
      "image/png": "[encoded data removed]",
      "text/plain": [
       "<Figure size 432x432 with 3 Axes>"
      ]
     },
     "metadata": {
      "needs_background": "light"
     },
     "output_type": "display_data"
    }
   ],
   "source": [
    "sns.jointplot(dim1,dim2)"
   ]
  },
  {
   "cell_type": "code",
   "execution_count": null,
   "metadata": {
    "id": "AWNeKMYkdOZQ"
   },
   "outputs": [],
   "source": [
    "image_shape=(256,256,3)"
   ]
  },
  {
   "cell_type": "code",
   "execution_count": null,
   "metadata": {
    "id": "bYomZ6_idZN_"
   },
   "outputs": [],
   "source": [
    "from tensorflow.keras.preprocessing.image import ImageDataGenerator"
   ]
  },
  {
   "cell_type": "code",
   "execution_count": null,
   "metadata": {
    "id": "9z4v52VCdcqj"
   },
   "outputs": [],
   "source": [
    "image_gen=ImageDataGenerator(rotation_range=20,rescale=1/256,shear_range=0.1,zoom_range=0.1,\n",
    "                            horizontal_flip=True,fill_mode='nearest')"
   ]
  },
  {
   "cell_type": "code",
   "execution_count": null,
   "metadata": {
    "colab": {
     "base_uri": "https://localhost:8080/",
     "height": 35
    },
    "id": "NqnvzOxPdpMe",
    "outputId": "eada12fa-ddb3-47a3-a749-527f47a41271"
   },
   "outputs": [
    {
     "data": {
      "application/vnd.google.colaboratory.intrinsic+json": {
       "type": "string"
      },
      "text/plain": [
       "'/content/new plant diseases dataset(augmented)/New Plant Diseases Dataset(Augmented)/train/'"
      ]
     },
     "execution_count": 26,
     "metadata": {},
     "output_type": "execute_result"
    }
   ],
   "source": [
    "train_path"
   ]
  },
  {
   "cell_type": "code",
   "execution_count": null,
   "metadata": {
    "colab": {
     "base_uri": "https://localhost:8080/"
    },
    "id": "ekDVAuUDeC72",
    "outputId": "3402d0ab-a1c2-4a2b-a079-bf3a19f080f5"
   },
   "outputs": [
    {
     "name": "stdout",
     "output_type": "stream",
     "text": [
      "Found 70295 images belonging to 38 classes.\n"
     ]
    },
    {
     "data": {
      "text/plain": [
       "<keras.preprocessing.image.DirectoryIterator at 0x7f9e258f9950>"
      ]
     },
     "execution_count": 27,
     "metadata": {},
     "output_type": "execute_result"
    }
   ],
   "source": [
    "image_gen.flow_from_directory(train_path)"
   ]
  },
  {
   "cell_type": "code",
   "execution_count": null,
   "metadata": {
    "colab": {
     "base_uri": "https://localhost:8080/"
    },
    "id": "MxfggvyzeF3a",
    "outputId": "a2ff1208-5344-4859-814d-1059cafc2328"
   },
   "outputs": [
    {
     "name": "stdout",
     "output_type": "stream",
     "text": [
      "Found 17572 images belonging to 38 classes.\n"
     ]
    },
    {
     "data": {
      "text/plain": [
       "<keras.preprocessing.image.DirectoryIterator at 0x7f9e258f9d50>"
      ]
     },
     "execution_count": 28,
     "metadata": {},
     "output_type": "execute_result"
    }
   ],
   "source": [
    "image_gen.flow_from_directory(test_path)"
   ]
  },
  {
   "cell_type": "code",
   "execution_count": null,
   "metadata": {
    "id": "Jsbo4n75eIZ_"
   },
   "outputs": [],
   "source": [
    "from tensorflow.keras.models import Sequential"
   ]
  },
  {
   "cell_type": "code",
   "execution_count": null,
   "metadata": {
    "id": "MHZH-R07eKRe"
   },
   "outputs": [],
   "source": [
    "from tensorflow.keras.layers import Dense, Conv2D, MaxPool2D,Dropout,Flatten"
   ]
  },
  {
   "cell_type": "code",
   "execution_count": null,
   "metadata": {
    "id": "JeeZYrGyYYHG"
   },
   "outputs": [],
   "source": [
    "from tensorflow import keras\n",
    "model = keras.models.load_model('path/to/location')"
   ]
  },
  {
   "cell_type": "code",
   "execution_count": null,
   "metadata": {
    "id": "IgT0N7toeMDx"
   },
   "outputs": [],
   "source": [
    "model=Sequential()\n",
    "model.add(Conv2D(filters=32,kernel_size=(3,3),strides=(1,1),padding='valid', input_shape=(256,256,3),activation='relu'))\n",
    "model.add(MaxPool2D(pool_size=(2,2)))\n",
    "model.add(Conv2D(filters=64,kernel_size=(3,3),strides=(1,1),padding='valid', input_shape=(256,256,3),activation='relu'))\n",
    "model.add(MaxPool2D(pool_size=(2,2)))\n",
    "model.add(Conv2D(filters=64,kernel_size=(3,3),strides=(1,1),padding='valid', input_shape=(256,256,3),activation='relu'))\n",
    "model.add(MaxPool2D(pool_size=(2,2)))\n",
    "model.add(Flatten())\n",
    "model.add(Dense(128, activation='relu'))\n",
    "model.add(Dropout(0.5)) #randomly drop the layer\n",
    "\n",
    "model.add(Dense(38, activation='softmax'))\n",
    "model.compile(loss='categorical_crossentropy',optimizer='adam', metrics=['accuracy'])\n"
   ]
  },
  {
   "cell_type": "code",
   "execution_count": null,
   "metadata": {
    "colab": {
     "base_uri": "https://localhost:8080/"
    },
    "id": "A6oJDWU5elQG",
    "outputId": "9a1b330f-b0b3-4ea9-d580-1570ce66e819"
   },
   "outputs": [
    {
     "name": "stdout",
     "output_type": "stream",
     "text": [
      "Model: \"sequential\"\n",
      "_________________________________________________________________\n",
      " Layer (type)                Output Shape              Param #   \n",
      "=================================================================\n",
      " conv2d (Conv2D)             (None, 254, 254, 32)      896       \n",
      "                                                                 \n",
      " max_pooling2d (MaxPooling2D  (None, 127, 127, 32)     0         \n",
      " )                                                               \n",
      "                                                                 \n",
      " conv2d_1 (Conv2D)           (None, 125, 125, 64)      18496     \n",
      "                                                                 \n",
      " max_pooling2d_1 (MaxPooling  (None, 62, 62, 64)       0         \n",
      " 2D)                                                             \n",
      "                                                                 \n",
      " conv2d_2 (Conv2D)           (None, 60, 60, 64)        36928     \n",
      "                                                                 \n",
      " max_pooling2d_2 (MaxPooling  (None, 30, 30, 64)       0         \n",
      " 2D)                                                             \n",
      "                                                                 \n",
      " flatten (Flatten)           (None, 57600)             0         \n",
      "                                                                 \n",
      " dense (Dense)               (None, 128)               7372928   \n",
      "                                                                 \n",
      " dropout (Dropout)           (None, 128)               0         \n",
      "                                                                 \n",
      " dense_1 (Dense)             (None, 38)                4902      \n",
      "                                                                 \n",
      "=================================================================\n",
      "Total params: 7,434,150\n",
      "Trainable params: 7,434,150\n",
      "Non-trainable params: 0\n",
      "_________________________________________________________________\n"
     ]
    }
   ],
   "source": [
    "model.summary()"
   ]
  },
  {
   "cell_type": "code",
   "execution_count": null,
   "metadata": {
    "id": "V6_T-o2OepGx"
   },
   "outputs": [],
   "source": [
    "from tensorflow.keras.callbacks import EarlyStopping\n",
    "#it is used so that we can stop the model if it is not correcting with epocs\n",
    "early_stop=EarlyStopping(monitor='val_loss',patience=2)\n",
    "#Patience: how much epocs you need to see afterword before stopping"
   ]
  },
  {
   "cell_type": "code",
   "execution_count": null,
   "metadata": {
    "colab": {
     "base_uri": "https://localhost:8080/"
    },
    "id": "mDPujCd6etnO",
    "outputId": "66c3fccb-d15c-4cf3-b6fb-89213372d330"
   },
   "outputs": [
    {
     "data": {
      "text/plain": [
       "(256, 256, 3)"
      ]
     },
     "execution_count": 34,
     "metadata": {},
     "output_type": "execute_result"
    }
   ],
   "source": [
    "image_shape"
   ]
  },
  {
   "cell_type": "code",
   "execution_count": null,
   "metadata": {
    "colab": {
     "base_uri": "https://localhost:8080/"
    },
    "id": "tAsTNzgmevG7",
    "outputId": "d617f5e2-ff3d-480e-d415-fb263803db1d"
   },
   "outputs": [
    {
     "name": "stdout",
     "output_type": "stream",
     "text": [
      "Found 70295 images belonging to 38 classes.\n"
     ]
    }
   ],
   "source": [
    "train_image_gen=image_gen.flow_from_directory(train_path,target_size=(256,256),color_mode='rgb',batch_size=16,\n",
    "                                              class_mode='categorical')"
   ]
  },
  {
   "cell_type": "code",
   "execution_count": null,
   "metadata": {
    "colab": {
     "base_uri": "https://localhost:8080/"
    },
    "id": "k8tzHTjHe_0P",
    "outputId": "25c32fc4-ba9a-4b60-e6f6-35418e2f8284"
   },
   "outputs": [
    {
     "name": "stdout",
     "output_type": "stream",
     "text": [
      "Found 17572 images belonging to 38 classes.\n"
     ]
    }
   ],
   "source": [
    "test_image_gen=image_gen.flow_from_directory(test_path,target_size=(256,256),color_mode='rgb',batch_size=16,\n",
    "                                              class_mode='categorical',shuffle=False)"
   ]
  },
  {
   "cell_type": "code",
   "execution_count": null,
   "metadata": {
    "colab": {
     "base_uri": "https://localhost:8080/"
    },
    "id": "7RrQbIN9fIlK",
    "outputId": "48c2ad90-b3eb-4ce6-cbc8-1fe5250505d9"
   },
   "outputs": [
    {
     "data": {
      "text/plain": [
       "{'Apple___Apple_scab': 0,\n",
       " 'Apple___Black_rot': 1,\n",
       " 'Apple___Cedar_apple_rust': 2,\n",
       " 'Apple___healthy': 3,\n",
       " 'Blueberry___healthy': 4,\n",
       " 'Cherry_(including_sour)___Powdery_mildew': 5,\n",
       " 'Cherry_(including_sour)___healthy': 6,\n",
       " 'Corn_(maize)___Cercospora_leaf_spot Gray_leaf_spot': 7,\n",
       " 'Corn_(maize)___Common_rust_': 8,\n",
       " 'Corn_(maize)___Northern_Leaf_Blight': 9,\n",
       " 'Corn_(maize)___healthy': 10,\n",
       " 'Grape___Black_rot': 11,\n",
       " 'Grape___Esca_(Black_Measles)': 12,\n",
       " 'Grape___Leaf_blight_(Isariopsis_Leaf_Spot)': 13,\n",
       " 'Grape___healthy': 14,\n",
       " 'Orange___Haunglongbing_(Citrus_greening)': 15,\n",
       " 'Peach___Bacterial_spot': 16,\n",
       " 'Peach___healthy': 17,\n",
       " 'Pepper,_bell___Bacterial_spot': 18,\n",
       " 'Pepper,_bell___healthy': 19,\n",
       " 'Potato___Early_blight': 20,\n",
       " 'Potato___Late_blight': 21,\n",
       " 'Potato___healthy': 22,\n",
       " 'Raspberry___healthy': 23,\n",
       " 'Soybean___healthy': 24,\n",
       " 'Squash___Powdery_mildew': 25,\n",
       " 'Strawberry___Leaf_scorch': 26,\n",
       " 'Strawberry___healthy': 27,\n",
       " 'Tomato___Bacterial_spot': 28,\n",
       " 'Tomato___Early_blight': 29,\n",
       " 'Tomato___Late_blight': 30,\n",
       " 'Tomato___Leaf_Mold': 31,\n",
       " 'Tomato___Septoria_leaf_spot': 32,\n",
       " 'Tomato___Spider_mites Two-spotted_spider_mite': 33,\n",
       " 'Tomato___Target_Spot': 34,\n",
       " 'Tomato___Tomato_Yellow_Leaf_Curl_Virus': 35,\n",
       " 'Tomato___Tomato_mosaic_virus': 36,\n",
       " 'Tomato___healthy': 37}"
      ]
     },
     "execution_count": 37,
     "metadata": {},
     "output_type": "execute_result"
    }
   ],
   "source": [
    "train_image_gen.class_indices"
   ]
  },
  {
   "cell_type": "code",
   "execution_count": null,
   "metadata": {
    "colab": {
     "base_uri": "https://localhost:8080/"
    },
    "id": "MUcAv1GifMBJ",
    "outputId": "17e305d0-905f-473f-aa63-aa12173cd8b8"
   },
   "outputs": [
    {
     "metadata": {
      "tags": null
     },
     "name": "stderr",
     "output_type": "stream",
     "text": [
      "/usr/local/lib/python3.7/dist-packages/ipykernel_launcher.py:1: UserWarning: `Model.fit_generator` is deprecated and will be removed in a future version. Please use `Model.fit`, which supports generators.\n",
      "  \"\"\"Entry point for launching an IPython kernel.\n"
     ]
    },
    {
     "name": "stdout",
     "output_type": "stream",
     "text": [
      "Epoch 1/20\n",
      "4394/4394 [==============================] - 1200s 271ms/step - loss: 1.8723 - accuracy: 0.4477 - val_loss: 0.8383 - val_accuracy: 0.7382\n",
      "Epoch 2/20\n",
      "4394/4394 [==============================] - 1187s 270ms/step - loss: 1.0463 - accuracy: 0.6772 - val_loss: 0.5125 - val_accuracy: 0.8376\n",
      "Epoch 3/20\n",
      "4394/4394 [==============================] - 1185s 270ms/step - loss: 0.8120 - accuracy: 0.7429 - val_loss: 0.4175 - val_accuracy: 0.8707\n",
      "Epoch 4/20\n",
      "4394/4394 [==============================] - 1213s 276ms/step - loss: 0.6913 - accuracy: 0.7851 - val_loss: 0.3440 - val_accuracy: 0.8911\n",
      "Epoch 5/20\n",
      "4394/4394 [==============================] - 1204s 274ms/step - loss: 0.6210 - accuracy: 0.8064 - val_loss: 0.3127 - val_accuracy: 0.9022\n",
      "Epoch 6/20\n",
      "4394/4394 [==============================] - 1201s 273ms/step - loss: 0.5713 - accuracy: 0.8218 - val_loss: 0.2123 - val_accuracy: 0.9295\n",
      "Epoch 7/20\n",
      "4394/4394 [==============================] - 1205s 274ms/step - loss: 0.5320 - accuracy: 0.8352 - val_loss: 0.2344 - val_accuracy: 0.9253\n",
      "Epoch 8/20\n",
      "4394/4394 [==============================] - 1205s 274ms/step - loss: 0.5065 - accuracy: 0.8440 - val_loss: 0.2284 - val_accuracy: 0.9271\n"
     ]
    }
   ],
   "source": [
    "results=model.fit_generator(train_image_gen,epochs=20, validation_data=test_image_gen,callbacks=[early_stop])"
   ]
  },
  {
   "cell_type": "code",
   "execution_count": null,
   "metadata": {
    "id": "ot3JPym8fQwu"
   },
   "outputs": [],
   "source": [
    "model.save(\"CropDoc.h5\")"
   ]
  },
  {
   "cell_type": "code",
   "execution_count": null,
   "metadata": {
    "id": "w5698R4KmYOu"
   },
   "outputs": [],
   "source": []
  }
 ],
 "metadata": {
  "accelerator": "GPU",
  "colab": {
   "provenance": []
  },
  "gpuClass": "standard",
  "kernelspec": {
   "display_name": "Python 3",
   "language": "python",
   "name": "python3"
  },
  "language_info": {
   "codemirror_mode": {
    "name": "ipython",
    "version": 3
   },
   "file_extension": ".py",
   "mimetype": "text/x-python",
   "name": "python",
   "nbconvert_exporter": "python",
   "pygments_lexer": "ipython3",
   "version": "3.8.5"
  }
 },
 "nbformat": 4,
 "nbformat_minor": 1
}
